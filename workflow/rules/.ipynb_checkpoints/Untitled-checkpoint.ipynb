{
 "cells": [
  {
   "cell_type": "code",
   "execution_count": 7,
   "id": "27c49234",
   "metadata": {},
   "outputs": [],
   "source": [
    "import glob\n",
    "\n",
    "for filename in glob.glob(\"../raw_data/SRR_*.txt\"):\n",
    "    with open(filename, 'r') as file:\n",
    "        content = file.read()\n",
    "        print(content)"
   ]
  },
  {
   "cell_type": "code",
   "execution_count": 8,
   "id": "f06b77ab",
   "metadata": {},
   "outputs": [
    {
     "name": "stdout",
     "output_type": "stream",
     "text": [
      "['../raw_data/syn']\n",
      "../processed_data/syn\n"
     ]
    }
   ],
   "source": [
    "test = glob.glob(\"../raw_data/*\")\n",
    "print(test)\n",
    "for file in test:\n",
    "    new=file.replace(\"raw_data\", \"processed_data\")\n",
    "    print(new)"
   ]
  },
  {
   "cell_type": "code",
   "execution_count": 9,
   "id": "8e47fd20",
   "metadata": {},
   "outputs": [],
   "source": [
    "import pandas as pd"
   ]
  },
  {
   "cell_type": "code",
   "execution_count": 18,
   "id": "900d158e",
   "metadata": {},
   "outputs": [
    {
     "ename": "SyntaxError",
     "evalue": "invalid syntax. Perhaps you forgot a comma? (3230130260.py, line 24)",
     "output_type": "error",
     "traceback": [
      "\u001b[0;36m  Cell \u001b[0;32mIn[18], line 24\u001b[0;36m\u001b[0m\n\u001b[0;31m    return df.loc[df[]]\u001b[0m\n\u001b[0m                  ^\u001b[0m\n\u001b[0;31mSyntaxError\u001b[0m\u001b[0;31m:\u001b[0m invalid syntax. Perhaps you forgot a comma?\n"
     ]
    }
   ],
   "source": [
    "def read_csv(csv):\n",
    "    sra_run = pd.read_csv(csv)\n",
    "    \n",
    "    return sra_run\n",
    "\n",
    "test = read_csv(\"/homes/fmatten/Downloads/SraRunInfo.csv\")\n",
    "test[\"LibraryLayout\"]\n",
    "\n",
    "def get_names(sra_run):\n",
    "    names = []\n",
    "    for name in sra_run[\"Run\"]:\n",
    "        names.append(names)\n",
    "    \n",
    "    return names\n",
    "                \n",
    "def get_layout(sra_run):\n",
    "    layouts = []\n",
    "    for layout in sra_run[\"LibraryLayout\"]:\n",
    "        layouts.append(layout)\n",
    "        \n",
    "    return layouts\n",
    "\n",
    "def get_pe(df: pd.DataFrame) -> pd.DataFrame:\n",
    "    return df.loc[df[\"LibraryLayout\"] == \"PAIRED\"]\n",
    "    \n",
    "    \n",
    "    \n",
    "        \n",
    "        "
   ]
  }
 ],
 "metadata": {
  "kernelspec": {
   "display_name": "Python 3 (ipykernel)",
   "language": "python",
   "name": "python3"
  },
  "language_info": {
   "codemirror_mode": {
    "name": "ipython",
    "version": 3
   },
   "file_extension": ".py",
   "mimetype": "text/x-python",
   "name": "python",
   "nbconvert_exporter": "python",
   "pygments_lexer": "ipython3",
   "version": "3.10.8"
  }
 },
 "nbformat": 4,
 "nbformat_minor": 5
}
