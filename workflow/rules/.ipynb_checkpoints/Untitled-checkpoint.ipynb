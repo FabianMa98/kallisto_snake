{
 "cells": [
  {
   "cell_type": "code",
   "execution_count": 7,
   "id": "27c49234",
   "metadata": {},
   "outputs": [],
   "source": [
    "import glob\n",
    "\n",
    "for filename in glob.glob(\"../raw_data/SRR_*.txt\"):\n",
    "    with open(filename, 'r') as file:\n",
    "        content = file.read()\n",
    "        print(content)"
   ]
  },
  {
   "cell_type": "code",
   "execution_count": 8,
   "id": "f06b77ab",
   "metadata": {},
   "outputs": [
    {
     "name": "stdout",
     "output_type": "stream",
     "text": [
      "['../raw_data/syn']\n",
      "../processed_data/syn\n"
     ]
    }
   ],
   "source": [
    "test = glob.glob(\"../raw_data/*\")\n",
    "print(test)\n",
    "for file in test:\n",
    "    new=file.replace(\"raw_data\", \"processed_data\")\n",
    "    print(new)"
   ]
  },
  {
   "cell_type": "code",
   "execution_count": 9,
   "id": "faadd679",
   "metadata": {},
   "outputs": [],
   "source": [
    "import pandas as pd"
   ]
  },
  {
   "cell_type": "code",
   "execution_count": 23,
   "id": "e0875407",
   "metadata": {},
   "outputs": [
    {
     "data": {
      "text/html": [
       "<div>\n",
       "<style scoped>\n",
       "    .dataframe tbody tr th:only-of-type {\n",
       "        vertical-align: middle;\n",
       "    }\n",
       "\n",
       "    .dataframe tbody tr th {\n",
       "        vertical-align: top;\n",
       "    }\n",
       "\n",
       "    .dataframe thead th {\n",
       "        text-align: right;\n",
       "    }\n",
       "</style>\n",
       "<table border=\"1\" class=\"dataframe\">\n",
       "  <thead>\n",
       "    <tr style=\"text-align: right;\">\n",
       "      <th></th>\n",
       "      <th>Run</th>\n",
       "      <th>ReleaseDate</th>\n",
       "      <th>LoadDate</th>\n",
       "      <th>spots</th>\n",
       "      <th>bases</th>\n",
       "      <th>spots_with_mates</th>\n",
       "      <th>avgLength</th>\n",
       "      <th>size_MB</th>\n",
       "      <th>AssemblyName</th>\n",
       "      <th>download_path</th>\n",
       "      <th>...</th>\n",
       "      <th>Affection_Status</th>\n",
       "      <th>Analyte_Type</th>\n",
       "      <th>Histological_Type</th>\n",
       "      <th>Body_Site</th>\n",
       "      <th>CenterName</th>\n",
       "      <th>Submission</th>\n",
       "      <th>dbgap_study_accession</th>\n",
       "      <th>Consent</th>\n",
       "      <th>RunHash</th>\n",
       "      <th>ReadHash</th>\n",
       "    </tr>\n",
       "  </thead>\n",
       "  <tbody>\n",
       "    <tr>\n",
       "      <th>0</th>\n",
       "      <td>SRR28113741</td>\n",
       "      <td>2024-02-27 09:25:00</td>\n",
       "      <td>2024-02-27 08:24:00</td>\n",
       "      <td>12204095</td>\n",
       "      <td>3685636690</td>\n",
       "      <td>12204095</td>\n",
       "      <td>302</td>\n",
       "      <td>1124</td>\n",
       "      <td>NaN</td>\n",
       "      <td>https://sra-downloadb.be-md.ncbi.nlm.nih.gov/s...</td>\n",
       "      <td>...</td>\n",
       "      <td>NaN</td>\n",
       "      <td>NaN</td>\n",
       "      <td>NaN</td>\n",
       "      <td>NaN</td>\n",
       "      <td>CENTRAL CHINA NORMAL UNIVERSITY</td>\n",
       "      <td>SRA1811189</td>\n",
       "      <td>NaN</td>\n",
       "      <td>public</td>\n",
       "      <td>53AB5489A451FC195BC3E0C11024B88D</td>\n",
       "      <td>40B6A2581CE63583251B1DDA551438F9</td>\n",
       "    </tr>\n",
       "  </tbody>\n",
       "</table>\n",
       "<p>1 rows × 47 columns</p>\n",
       "</div>"
      ],
      "text/plain": [
       "           Run          ReleaseDate             LoadDate     spots  \\\n",
       "0  SRR28113741  2024-02-27 09:25:00  2024-02-27 08:24:00  12204095   \n",
       "\n",
       "        bases  spots_with_mates  avgLength  size_MB  AssemblyName  \\\n",
       "0  3685636690          12204095        302     1124           NaN   \n",
       "\n",
       "                                       download_path  ... Affection_Status  \\\n",
       "0  https://sra-downloadb.be-md.ncbi.nlm.nih.gov/s...  ...              NaN   \n",
       "\n",
       "  Analyte_Type Histological_Type Body_Site                       CenterName  \\\n",
       "0          NaN               NaN       NaN  CENTRAL CHINA NORMAL UNIVERSITY   \n",
       "\n",
       "   Submission  dbgap_study_accession  Consent  \\\n",
       "0  SRA1811189                    NaN   public   \n",
       "\n",
       "                            RunHash                          ReadHash  \n",
       "0  53AB5489A451FC195BC3E0C11024B88D  40B6A2581CE63583251B1DDA551438F9  \n",
       "\n",
       "[1 rows x 47 columns]"
      ]
     },
     "execution_count": 23,
     "metadata": {},
     "output_type": "execute_result"
    }
   ],
   "source": [
    "def read_csv(csv):\n",
    "    sra_run = pd.read_csv(csv)\n",
    "    \n",
    "    return sra_run\n",
    "\n",
    "test = read_csv(\"/homes/fmatten/Downloads/SraRunInfo.csv\")\n",
    "test[\"LibraryLayout\"]\n",
    "\n",
    "def get_names(sra_run):\n",
    "    names = []\n",
    "    for name in sra_run[\"Run\"]:\n",
    "        names.append(names)\n",
    "    \n",
    "    return names\n",
    "                \n",
    "def get_layout(sra_run):\n",
    "    layouts = []\n",
    "    for layout in sra_run[\"LibraryLayout\"]:\n",
    "        layouts.append(layout)\n",
    "        \n",
    "    return layouts\n",
    "\n",
    "def get_pe(df: pd.DataFrame) -> pd.DataFrame:\n",
    "    return df.loc[df[\"LibraryLayout\"] == \"PAIRED\"]\n",
    "\n",
    "def get_se(df: pd.DataFrame) -> pd.DataFrame:\n",
    "    return df.loc[df[\"LibraryLayout\"] == \"SINGLE\"]\n",
    "\n",
    "PE_runs = get_pe(test)\n",
    "SE_runs = get_se(test)\n",
    "    \n",
    "PE_runs\n",
    "SE_runs\n",
    "        "
   ]
  }
 ],
 "metadata": {
  "kernelspec": {
   "display_name": "Python 3 (ipykernel)",
   "language": "python",
   "name": "python3"
  },
  "language_info": {
   "codemirror_mode": {
    "name": "ipython",
    "version": 3
   },
   "file_extension": ".py",
   "mimetype": "text/x-python",
   "name": "python",
   "nbconvert_exporter": "python",
   "pygments_lexer": "ipython3",
   "version": "3.10.8"
  }
 },
 "nbformat": 4,
 "nbformat_minor": 5
}
