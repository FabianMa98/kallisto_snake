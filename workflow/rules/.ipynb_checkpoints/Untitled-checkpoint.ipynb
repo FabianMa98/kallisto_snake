{
 "cells": [
  {
   "cell_type": "code",
   "execution_count": 1,
   "id": "6a848b2b",
   "metadata": {},
   "outputs": [
    {
     "name": "stdout",
     "output_type": "stream",
     "text": [
      "SRR21850421\n",
      "SRR21850422\n",
      "SRR21850423\n",
      "SRR21850424\n",
      "SRR18828715\n",
      "SRR18828716\n",
      "SRR18828717\n",
      "SRR18828718\n",
      "SRR18828719\n",
      "SRR18828720\n",
      "SRR18828721\n",
      "SRR18828722\n",
      "SRR18828723\n",
      "SRR17288360\n",
      "SRR17288361\n",
      "SRR17288357\n"
     ]
    }
   ],
   "source": [
    "import glob\n",
    "\n",
    "for filename in glob.glob(\"../raw_data/SRR_*.txt\"):\n",
    "    with open(filename, 'r') as file:\n",
    "        content = file.read()\n",
    "        print(content)"
   ]
  }
 ],
 "metadata": {
  "kernelspec": {
   "display_name": "Python 3 (ipykernel)",
   "language": "python",
   "name": "python3"
  },
  "language_info": {
   "codemirror_mode": {
    "name": "ipython",
    "version": 3
   },
   "file_extension": ".py",
   "mimetype": "text/x-python",
   "name": "python",
   "nbconvert_exporter": "python",
   "pygments_lexer": "ipython3",
   "version": "3.10.8"
  }
 },
 "nbformat": 4,
 "nbformat_minor": 5
}
